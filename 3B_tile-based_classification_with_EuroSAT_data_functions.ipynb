{
 "cells": [
  {
   "cell_type": "markdown",
   "metadata": {},
   "source": [
    "<center><img src='../../img/ai4eo_logos.jpg' alt='Logos AI4EO MOOC' width='80%'></img></center>"
   ]
  },
  {
   "cell_type": "markdown",
   "metadata": {},
   "source": [
    "<hr>"
   ]
  },
  {
   "cell_type": "markdown",
   "metadata": {},
   "source": [
    "<br>"
   ]
  },
  {
   "cell_type": "markdown",
   "metadata": {},
   "source": [
    "<a href=\"https://www.futurelearn.com/courses/artificial-intelligence-for-earth-monitoring/1/steps/1280514\"><< Back to FutureLearn</a><br>"
   ]
  },
  {
   "cell_type": "markdown",
   "metadata": {},
   "source": [
    "# 3B - Tile-based classification using Sentinel-2 L1C and EuroSAT data - Functions"
   ]
  },
  {
   "cell_type": "markdown",
   "metadata": {},
   "source": [
    "<i>by Nicolò Taggio, Planetek Italia S.r.l., Bari, Italy</i>"
   ]
  },
  {
   "cell_type": "markdown",
   "metadata": {},
   "source": [
    "<hr>"
   ]
  },
  {
   "cell_type": "markdown",
   "metadata": {},
   "source": [
    "### <a id='from_folder_to_stack'></a> `from_folder_to_stack`"
   ]
  },
  {
   "cell_type": "code",
   "execution_count": 2,
   "metadata": {},
   "outputs": [],
   "source": [
    "'''\n",
    "function name: \n",
    "    from_folder_to_stack\n",
    "description:\n",
    "    This function transform the .SAFE file into three different arrays (10m, 20m and 60m).\n",
    "Input:\n",
    "    safe_path: the path of the .SAFE file;\n",
    "    data_bands_20m: if True, the function computes stack using Sentinel2 band with 20m of pixel resolution (default=True);\n",
    "    data_bands_60m: if True, the function computes stack using Sentinel2 band with 60m of pixel resolution (default=True);    \n",
    "Output: \n",
    "    stack_10m: stack with the following S2L1C bands (B02,B03,B04,B08)\n",
    "    stack_20m: stack with the following S2L1C bands (B05,B06,B07,B11,B12,B8A)\n",
    "    stack_60m: stack with the following S2L1C bands (B01,B09,B10)\n",
    "'''\n",
    "def from_folder_to_stack(\n",
    "        safe_path,\n",
    "        data_bands_20m=True,\n",
    "        data_bands_60m=True,\n",
    "        ):        \n",
    "    \n",
    "    level_folder_name_list = glob.glob(safe_path + 'GRANULE/*') \n",
    "    level_folder_name = level_folder_name_list[0]\n",
    "    \n",
    "    if level_folder_name.find(\"L2A\") < 0:\n",
    "        safe_path = [level_folder_name + '/IMG_DATA/']\n",
    "    else:\n",
    "        safe_path_10m = level_folder_name + '/IMG_DATA/R10m/'\n",
    "        safe_path = [safe_path_10m]\n",
    "    \n",
    "    text_files = []\n",
    "\n",
    "    for i in range(0,len(safe_path)):\n",
    "        print(\"[AI4EO_MOOC]_log: Loading .jp2 images in %s\" % (safe_path[i]))\n",
    "        text_files_tmp = [f for f in os.listdir(safe_path[i]) if f.endswith('.jp2')]\n",
    "        text_files.append(text_files_tmp)\n",
    "        \n",
    "    lst_stack_60m=[]\n",
    "    lst_code_60m =[]\n",
    "    lst_stack_20m=[]\n",
    "    lst_code_20m =[]\n",
    "    lst_stack_10m=[]\n",
    "    lst_code_10m =[]\n",
    "    for i in range(0,len(safe_path)):        \n",
    "        \n",
    "        print(\"[AI4EO_MOOC]_log: Reading .jp2 files in %s\" % (safe_path[i]))\n",
    "        for name in range(0, len(text_files[i])):            \n",
    "            text_files_tmp = text_files[i]               \n",
    "            if data_bands_60m == True:\n",
    "                cond_60m = ( (text_files_tmp[name].find(\"B01\") > 0) or (text_files_tmp[name].find(\"B09\") > 0) \n",
    "                            or (text_files_tmp[name].find(\"B10\") > 0))\n",
    "                if cond_60m:\n",
    "                    print(\"[AI4EO_MOOC]_log: Using .jp2 image: %s\" % text_files_tmp[name])\n",
    "                    lst_stack_60m.append(gdal_array.LoadFile(safe_path[i] + text_files_tmp[name]))\n",
    "                    lst_code_60m.append(text_files_tmp[name][24:26])\n",
    "                \n",
    "            if data_bands_20m == True:                    \n",
    "                cond_20m = (text_files_tmp[name].find(\"B05\") > 0) or (text_files_tmp[name].find(\"B06\") > 0) or (\n",
    "                            text_files_tmp[name].find(\"B07\") > 0) or (text_files_tmp[name].find(\"B11\") > 0) or (\n",
    "                                       text_files_tmp[name].find(\"B12\") > 0) or (text_files_tmp[name].find(\"B8A\") > 0)\n",
    "                cond_60m_L2 = (text_files_tmp[name].find(\"B05_60m\") < 0) and (text_files_tmp[name].find(\"B06_60m\") < 0) and (\n",
    "                            text_files_tmp[name].find(\"B07_60m\") < 0) and (text_files_tmp[name].find(\"B11_60m\") < 0) and (\n",
    "                                       text_files_tmp[name].find(\"B12_60m\") < 0) and (text_files_tmp[name].find(\"B8A_60m\") < 0)\n",
    "                cond_20m_tot = cond_20m and cond_60m_L2\n",
    "                if cond_20m_tot:\n",
    "                    print(\"[AI4EO_MOOC]_log: Using .jp2 image: %s\" % text_files_tmp[name])\n",
    "                    lst_stack_20m.append(gdal_array.LoadFile(safe_path[i] + text_files_tmp[name]))\n",
    "                    lst_code_20m.append(text_files_tmp[name][24:26])\n",
    "            else:\n",
    "                stack_20m = 0\n",
    "                    \n",
    "            cond_10m = (text_files_tmp[name].find(\"B02\") > 0) or (text_files_tmp[name].find(\"B03\") > 0) or (\n",
    "                        text_files_tmp[name].find(\"B04\") > 0) or (text_files_tmp[name].find(\"B08\") > 0)\n",
    "            cond_20m_L2 = (text_files_tmp[name].find(\"B02_20m\") < 0) and (text_files_tmp[name].find(\"B03_20m\") < 0) and (\n",
    "                        text_files_tmp[name].find(\"B04_20m\") < 0) and (text_files_tmp[name].find(\"B08_20m\") < 0)\n",
    "            cond_60m_L2 = (text_files_tmp[name].find(\"B02_60m\") < 0) and(text_files_tmp[name].find(\"B03_60m\") < 0) and(\n",
    "                        text_files_tmp[name].find(\"B04_60m\") < 0) and (text_files_tmp[name].find(\"B08_60m\") < 0)\n",
    "            cond_10m_tot = cond_10m and cond_20m_L2 and cond_60m_L2\n",
    "            \n",
    "            if cond_10m_tot:\n",
    "                print(\"[AI4EO_MOOC]_log: Using .jp2 image: %s\" % text_files_tmp[name])\n",
    "                lst_stack_10m.append(gdal_array.LoadFile(safe_path[i] + text_files_tmp[name]))\n",
    "                lst_code_10m.append(text_files_tmp[name][24:26])\n",
    "                 \n",
    "    \n",
    "    stack_10m=np.asarray(lst_stack_10m)\n",
    "    sorted_list_10m = ['02','03','04','08']    \n",
    "    print('[AI4EO_MOOC]_log: Sorting stack 10m...')\n",
    "    stack_10m_final_sorted = stack_sort(stack_10m, lst_code_10m, sorted_list_10m)\n",
    "    \n",
    "    stack_20m=np.asarray(lst_stack_20m)\n",
    "    sorted_list_20m = ['05','06','07','11','12','8A']\n",
    "    print('[AI4EO_MOOC]_log: Sorting stack 20m...')\n",
    "    stack_20m_final_sorted = stack_sort(stack_20m, lst_code_20m, sorted_list_20m)\n",
    "    \n",
    "    stack_60m=np.asarray(lst_stack_60m)\n",
    "    sorted_list_60m = ['01','09','10']    \n",
    "    print('[AI4EO_MOOC]_log: Sorting stack 60m...')\n",
    "    stack_60m_final_sorted = stack_sort(stack_60m, lst_code_60m, sorted_list_60m)\n",
    "                \n",
    "    return stack_10m_final_sorted, stack_20m_final_sorted, stack_60m_final_sorted"
   ]
  },
  {
   "cell_type": "markdown",
   "metadata": {},
   "source": [
    "<br>"
   ]
  },
  {
   "cell_type": "markdown",
   "metadata": {},
   "source": [
    "### <a id='stack_sort'></a>`stack_sort`"
   ]
  },
  {
   "cell_type": "code",
   "execution_count": null,
   "metadata": {},
   "outputs": [],
   "source": [
    "def stack_sort(stack_in, lst_code, sorted_list):    \n",
    "    b,r,c = stack_in.shape\n",
    "    stack_sorted = np.zeros((r,c,b), dtype=np.uint16)\n",
    "    \n",
    "    len_list_bands = len(lst_code)\n",
    "    \n",
    "    c = np.zeros((len_list_bands),dtype=np.uint8)\n",
    "    count = 0\n",
    "    count_sort = 0\n",
    "    while count_sort != len_list_bands:\n",
    "        if lst_code[count] == sorted_list[count_sort]:\n",
    "            c[count_sort] = count\n",
    "            count_sort = count_sort + 1\n",
    "            count = 0\n",
    "        else:\n",
    "            count = count + 1   \n",
    "    print('[AI4EO_MOOC]_log: sorted list:', sorted_list)\n",
    "    print('[AI4EO_MOOC]_log: bands:', c)\n",
    "    for i in range(0, len_list_bands):\n",
    "        stack_sorted[:,:,i]=stack_in[c[i],:,:]\n",
    "        \n",
    "    return stack_sorted"
   ]
  },
  {
   "cell_type": "markdown",
   "metadata": {},
   "source": [
    "<br>"
   ]
  },
  {
   "cell_type": "markdown",
   "metadata": {},
   "source": [
    "### <a id='resample_3d'></a>`resample_3d`"
   ]
  },
  {
   "cell_type": "code",
   "execution_count": null,
   "metadata": {},
   "outputs": [],
   "source": [
    "'''\n",
    "function name: \n",
    "    resample_3d\n",
    "description:\n",
    "    Wrapper of ndimage zoom. Bilinear interpolation for resampling array\n",
    "Input:\n",
    "    stack: array to be resampled;\n",
    "    row10m: the expected row;\n",
    "    col10m: the expected col;\n",
    "    rate: the rate of the tranformation;\n",
    "Output: \n",
    "    stack_10m: resampled array\n",
    "'''\n",
    "def resample_3d(\n",
    "        stack,\n",
    "        row10m,\n",
    "        col10m,\n",
    "        rate):\n",
    "    row, col, bands = stack.shape\n",
    "    print(\"[AI4EO_MOOC]_log: Array shape (%d,%d,%d)\" % (row, col, bands))\n",
    "    \n",
    "    stack_10m = np.zeros((row10m, col10m, bands),dtype=np.uint16)\n",
    "    print(\"[AI4EO_MOOC]_log: Resize array bands from (%d,%d,%d) to (%d,%d,%d)\" % (\n",
    "        row, col, bands, row10m, col10m, bands))\n",
    "    \n",
    "    for i in range(0, bands):\n",
    "        stack_10m[:, :, i] = ndimage.zoom(stack[:, :,i], rate)\n",
    "        \n",
    "    del (stack)\n",
    "    \n",
    "    return stack_10m"
   ]
  },
  {
   "cell_type": "markdown",
   "metadata": {},
   "source": [
    "<br>"
   ]
  },
  {
   "cell_type": "markdown",
   "metadata": {},
   "source": [
    "### <a id='sentinel2_format'></a>`sentinel2_format`"
   ]
  },
  {
   "cell_type": "code",
   "execution_count": null,
   "metadata": {},
   "outputs": [],
   "source": [
    "'''\n",
    "function name: \n",
    "    sentinel2_format\n",
    "description:\n",
    "    This function transform the multistack into sentinel2 format array with bands in the right position for AI model.\n",
    "Input:\n",
    "    total_stack: array that is the concatenation of stack10, stack_20mTo10m and stack_60mTo10m,;    \n",
    "Output: \n",
    "    sentinel2: sentinel2 format array    \n",
    "'''\n",
    "def sentinel2_format(\n",
    "        total_stack):\n",
    "    \n",
    "    row_tot, col_tot, bands_tot = total_stack.shape\n",
    "    sentinel2 = np.zeros((row_tot, col_tot,bands_tot),dtype=np.uint16)   \n",
    "    \n",
    "    \n",
    "    print(\"[AI4EO_MOOC]_log: Creating total stack with following bands list:\")\n",
    "    print(\"[AI4EO_MOOC]_log: Band 1 – Coastal aerosol\")\n",
    "    print(\"[AI4EO_MOOC]_log: Band 2 – Blue\")\n",
    "    print(\"[AI4EO_MOOC]_log: Band 3 – Green\")\n",
    "    print(\"[AI4EO_MOOC]_log: Band 4 – Red\")\n",
    "    print(\"[AI4EO_MOOC]_log: Band 5 – Vegetation red edge\")\n",
    "    print(\"[AI4EO_MOOC]_log: Band 6 – Vegetation red edge\")\n",
    "    print(\"[AI4EO_MOOC]_log: Band 7 – Vegetation red edge\")\n",
    "    print(\"[AI4EO_MOOC]_log: Band 8 – NIR\")\n",
    "    print(\"[AI4EO_MOOC]_log: Band 8A – Narrow NIR\")\n",
    "    print(\"[AI4EO_MOOC]_log: Band 9 – Water vapour\")\n",
    "    print(\"[AI4EO_MOOC]_log: Band 10 – SWIR – Cirrus\")\n",
    "    print(\"[AI4EO_MOOC]_log: Band 11 – SWIR\")\n",
    "    print(\"[AI4EO_MOOC]_log: Band 12 – SWIR\")\n",
    "\n",
    "    sentinel2[:, :, 0] = total_stack[:, :, 10]\n",
    "    sentinel2[:, :, 1] = total_stack[:, :, 0]\n",
    "    sentinel2[:, :, 2] = total_stack[:, :, 1]\n",
    "    sentinel2[:, :, 3] = total_stack[:, :, 2]\n",
    "    sentinel2[:, :, 4] = total_stack[:, :, 4]\n",
    "    sentinel2[:, :, 5] = total_stack[:, :, 5]\n",
    "    sentinel2[:, :, 6] = total_stack[:, :, 6]\n",
    "    sentinel2[:, :, 7] = total_stack[:, :, 3]\n",
    "    sentinel2[:, :, 8] = total_stack[:, :, 9]\n",
    "    sentinel2[:, :, 9] = total_stack[:, :,11]\n",
    "    sentinel2[:, :,10] = total_stack[:, :,12]\n",
    "    sentinel2[:, :,11] = total_stack[:, :, 7]\n",
    "    sentinel2[:, :,12] = total_stack[:, :, 8]\n",
    "    \n",
    "    \n",
    "    \n",
    "    del (total_stack)\n",
    "    return sentinel2"
   ]
  },
  {
   "cell_type": "markdown",
   "metadata": {},
   "source": [
    "<br>"
   ]
  },
  {
   "cell_type": "markdown",
   "metadata": {},
   "source": [
    "## `sliding`"
   ]
  },
  {
   "cell_type": "code",
   "execution_count": null,
   "metadata": {},
   "outputs": [],
   "source": [
    "'''\n",
    "Function_name: \n",
    "    sliding\n",
    "description: \n",
    "Input:\n",
    "    shape: the target shape\n",
    "    window_size: the shape of the window\n",
    "    step_size:\n",
    "    fixed\n",
    "Output:\n",
    "   windows:\n",
    "'''\n",
    "\n",
    "\n",
    "def sliding(shape, window_size, step_size=None, fixed=True):\n",
    "    \n",
    "    h, w = shape\n",
    "    if step_size:\n",
    "        h_step = step_size\n",
    "        w_step = step_size\n",
    "    else:\n",
    "        h_step = window_size\n",
    "        w_step = window_size\n",
    "        \n",
    "    h_wind = window_size\n",
    "    w_wind = window_size\n",
    "    windows = []\n",
    "    for y in range(0, h, h_step):\n",
    "        for x in range(0, w, w_step):\n",
    "            h_min = min(h_wind, h - y)\n",
    "            w_min = min(w_wind, w - x)\n",
    "            if fixed:\n",
    "                if h_min < h_wind or w_min < w_wind:\n",
    "                    continue\n",
    "            window = (x, y, w_min, h_min)\n",
    "            windows.append(window)\n",
    "\n",
    "    return windows"
   ]
  },
  {
   "cell_type": "markdown",
   "metadata": {},
   "source": [
    "<br>"
   ]
  },
  {
   "cell_type": "markdown",
   "metadata": {},
   "source": [
    "<a href=\"https://www.futurelearn.com/courses/artificial-intelligence-for-earth-monitoring/1/steps/1170903\"><< Back to FutureLearn</a><br>"
   ]
  },
  {
   "cell_type": "markdown",
   "metadata": {},
   "source": [
    "<hr>"
   ]
  },
  {
   "cell_type": "markdown",
   "metadata": {},
   "source": [
    "<img src='../../img/copernicus_logo.png' alt='Copernicus logo' align='left' width='20%'></img>"
   ]
  },
  {
   "cell_type": "markdown",
   "metadata": {},
   "source": [
    "Course developed for [EUMETSAT](https://www.eumetsat.int/), [ECMWF](https://www.ecmwf.int/) and [Mercator Ocean International](https://www.mercator-ocean.fr/en/) in support of the [EU’s Copernicus Programme](https://www.copernicus.eu/en) and the [WEkEO platform](https://wekeo.eu/).\n"
   ]
  }
 ],
 "metadata": {
  "kernelspec": {
   "display_name": "machine-learning",
   "language": "python",
   "name": "machine-learning"
  },
  "language_info": {
   "codemirror_mode": {
    "name": "ipython",
    "version": 3
   },
   "file_extension": ".py",
   "mimetype": "text/x-python",
   "name": "python",
   "nbconvert_exporter": "python",
   "pygments_lexer": "ipython3",
   "version": "3.8.10"
  }
 },
 "nbformat": 4,
 "nbformat_minor": 4
}
